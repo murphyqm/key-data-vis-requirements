{
 "cells": [
  {
   "cell_type": "markdown",
   "metadata": {},
   "source": [
    "## Why are you making a figure?\n",
    "- Is the figure for yourself or direct collaborators? This may be the case if you are quickly checking if results are expected, are pulling together some notes for a supervisory or team meeting, or have some questions for a collaborator about some recent results.\n",
    "\n",
    "- Is the figure for a scientific publication and so for a broader audience who has technical knowledge but does not know the details of your work specifically?\n",
    "\n",
    "- Are you presenting a talk or a poster at a conference where the audience are mainly experts in your niche field?\n",
    "\n",
    "- Is your audience going to be undergraduate students where the aim is to convey a concept or method with your data as an example, instead of conveying your results specifically?\n",
    "\n",
    "- Is you data visualisation being used in an outreach setting for the general public without any assumed research or field-specific knowledge?\n",
    "\n",
    "## Who is your audience?\n",
    "\n",
    "??? Yourself!\n",
    "\n",
    "    Creating plots and graphs for yourself can be a fantastic way of quickly evaluating datasets, discovering patterns, and validating model output.\n",
    "    ## Exploratory data visualisation\n",
    "    This is data visualisation with the intention of discovering something, as opposed to displaying or proving something. The plots generated during the exploratory or investigation stage will likely never make it into a publication or other output: an awful lot of plots generated won't show anything interesting. That's ok! That's the point! Because of this, generating these plots needs to be rapid.\n",
    "\n",
    "    Exploratory data visualisation for yourself might be...\n",
    "\n",
    "    - Messy! Labels might be all lowercase, with underscores instead of spaces, and plots might use all default settings for colours.\n",
    "    - Informal\n",
    "    - Embedded in notebooks surrounded by exploratory notes\n",
    "    - Interactive\n",
    "\n",
    "    ## Interaction can aid exploration\n",
    "    Interactivity is often not necessary outside of specific applications, and can be overused to hide other issues with a visualisation (such as not knowing the message or story it is supposed to tell), but in the case of exploratory data visualisation it's ok not to know that the message or story is yet!\n",
    "\n",
    "    Quickly-built interactive visualisations using libraries such as plotly or bokeh can be a useful step in figuring out whether your plot should highlight the overall, large-scale patterns in the data, or if it should zoom in on the details.\n",
    "\n",
    "    \n",
    "\n",
    "\n",
    "\n",
    "\n",
    "\n",
    "\n",
    "\n",
    "\n",
    "<iframe\n",
    "  src=\"https://key-data-vis-requirements-audience.streamlit.app/?embed=true\"\n",
    "  style=\"height: 450px; width: 100%;\"\n",
    "></iframe>\n",
    "\n",
    "Note: if the app has gone to sleep (to conserve resources), please click \"Fullscreen\" to launch it in a new tab and then click \"Wake up\"."
   ]
  },
  {
   "cell_type": "code",
   "execution_count": null,
   "metadata": {},
   "outputs": [],
   "source": []
  }
 ],
 "metadata": {
  "language_info": {
   "name": "python"
  }
 },
 "nbformat": 4,
 "nbformat_minor": 2
}
